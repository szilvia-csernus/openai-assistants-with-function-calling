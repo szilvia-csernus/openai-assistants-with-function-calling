{
 "cells": [
  {
   "cell_type": "code",
   "execution_count": 2,
   "id": "2e76e39b-8eb1-4345-b0f1-51a400767f8a",
   "metadata": {},
   "outputs": [
    {
     "data": {
      "text/plain": [
       "True"
      ]
     },
     "execution_count": 2,
     "metadata": {},
     "output_type": "execute_result"
    }
   ],
   "source": [
    "from openai import OpenAI\n",
    "from dotenv import load_dotenv\n",
    "import json\n",
    "load_dotenv()"
   ]
  },
  {
   "cell_type": "code",
   "execution_count": 3,
   "id": "af035e7a-6594-4a7e-8929-24effdbbf45d",
   "metadata": {},
   "outputs": [],
   "source": [
    "client = OpenAI()"
   ]
  },
  {
   "cell_type": "code",
   "execution_count": 127,
   "id": "82d5720b-f0a2-41ec-9694-f47bab798e08",
   "metadata": {},
   "outputs": [],
   "source": [
    "# These are the functions to be called by the Assistant. These will be API calls to a weather app, \n",
    "# however, for simplicity, here I just hardcoded the return values.\n",
    "\n",
    "def get_current_temperature(location, unit):\n",
    "    if unit == 'Fahrenheit':\n",
    "        return '90'\n",
    "    else:\n",
    "        return '25'\n",
    "\n",
    "def get_rain_probability(location):\n",
    "    return '0.2'"
   ]
  },
  {
   "cell_type": "code",
   "execution_count": 97,
   "id": "b9c44b32-8d19-4d9a-bb55-22f490dd917e",
   "metadata": {},
   "outputs": [],
   "source": [
    "\n",
    "assistant = client.beta.assistants.create(\n",
    "  name=\"Weather Forecaster\"\n",
    "  instructions=\"You are a weather bot. Use the provided functions to answer questions.\",\n",
    "  model=\"gpt-4o\",\n",
    "  tools=[\n",
    "    {\n",
    "      \"type\": \"function\",\n",
    "      \"function\": {\n",
    "        \"name\": \"get_current_temperature\",\n",
    "        \"description\": \"Get the current temperature for a specific location\",\n",
    "        \"parameters\": {\n",
    "          \"type\": \"object\",\n",
    "          \"properties\": {\n",
    "            \"location\": {\n",
    "              \"type\": \"string\",\n",
    "              \"description\": \"The city and state, e.g., San Francisco, CA\"\n",
    "            },\n",
    "            \"unit\": {\n",
    "              \"type\": \"string\",\n",
    "              \"enum\": [\"Celsius\", \"Fahrenheit\"],\n",
    "              \"description\": \"The temperature unit to use. Infer this from the user's location.\"\n",
    "            }\n",
    "          },\n",
    "          \"required\": [\"location\", \"unit\"]\n",
    "        }\n",
    "      }\n",
    "    },\n",
    "    {\n",
    "      \"type\": \"function\",\n",
    "      \"function\": {\n",
    "        \"name\": \"get_rain_probability\",\n",
    "        \"description\": \"Get the probability of rain for a specific location\",\n",
    "        \"parameters\": {\n",
    "          \"type\": \"object\",\n",
    "          \"properties\": {\n",
    "            \"location\": {\n",
    "              \"type\": \"string\",\n",
    "              \"description\": \"The city and state, e.g., San Francisco, CA\"\n",
    "            }\n",
    "          },\n",
    "          \"required\": [\"location\"]\n",
    "        }\n",
    "      }\n",
    "    }\n",
    "  ]\n",
    ")"
   ]
  },
  {
   "cell_type": "code",
   "execution_count": 100,
   "id": "63838f06-d014-4b66-a148-85b759cbd6b3",
   "metadata": {},
   "outputs": [
    {
     "data": {
      "text/plain": [
       "ThreadDeleted(id='thread_VWR7hsYnLMqUSULsWcPHa4RP', deleted=True, object='thread.deleted')"
      ]
     },
     "execution_count": 100,
     "metadata": {},
     "output_type": "execute_result"
    }
   ],
   "source": [
    "# If we want to discard the previously used thread:\n",
    "client.beta.threads.delete(thread.id)"
   ]
  },
  {
   "cell_type": "code",
   "execution_count": 101,
   "id": "f0dd7a99-ff63-4a30-9b20-b4bf9e72b274",
   "metadata": {},
   "outputs": [],
   "source": [
    "# Create a thread\n",
    "thread = client.beta.threads.create()"
   ]
  },
  {
   "cell_type": "code",
   "execution_count": 102,
   "id": "f5a27d53-fdb4-4dc0-8046-9b82642c9dcc",
   "metadata": {},
   "outputs": [
    {
     "data": {
      "text/plain": [
       "'thread_8cQ9fTUGXP2bW0uz5oTOukOZ'"
      ]
     },
     "execution_count": 102,
     "metadata": {},
     "output_type": "execute_result"
    }
   ],
   "source": [
    "thread.id"
   ]
  },
  {
   "cell_type": "code",
   "execution_count": 113,
   "id": "fafc63e3-554a-4239-8ea1-605c56849a8b",
   "metadata": {},
   "outputs": [],
   "source": [
    "# Create our first message. Note that we ask for 2 things, hence 2 function calls are needed.\n",
    "message = client.beta.threads.messages.create(\n",
    "  thread_id=thread.id,\n",
    "  role=\"user\",\n",
    "  content=\"What's the weather in Los Angeles today and the likelihood it'll rain?\",\n",
    ")"
   ]
  },
  {
   "cell_type": "code",
   "execution_count": 114,
   "id": "f1d6dc9e-e8e3-41cb-9205-1e803a114b4f",
   "metadata": {},
   "outputs": [],
   "source": [
    "# Create a run without streaming\n",
    "# Note that runs expire after 10 minutes.\n",
    "\n",
    "run = client.beta.threads.runs.create_and_poll(\n",
    "  thread_id=thread.id,\n",
    "  assistant_id=assistant.id,\n",
    ")"
   ]
  },
  {
   "cell_type": "code",
   "execution_count": 115,
   "id": "6bfae506-1b43-4887-a31b-f20491a1f277",
   "metadata": {},
   "outputs": [
    {
     "data": {
      "text/plain": [
       "'requires_action'"
      ]
     },
     "execution_count": 115,
     "metadata": {},
     "output_type": "execute_result"
    }
   ],
   "source": [
    "run.status"
   ]
  },
  {
   "cell_type": "code",
   "execution_count": 116,
   "id": "fe907c1d-5976-4011-8f7c-96d7c4832908",
   "metadata": {},
   "outputs": [
    {
     "name": "stdout",
     "output_type": "stream",
     "text": [
      "Function 1:  get_current_temperature\n",
      "Arguments 1:  {'location': 'Los Angeles, CA', 'unit': 'Fahrenheit'} \n",
      "\n",
      "Function 2:  get_rain_probability\n",
      "Arguments 2:  {'location': 'Los Angeles, CA'}\n"
     ]
    }
   ],
   "source": [
    "tool_call_1 = run.required_action.submit_tool_outputs.tool_calls[0]\n",
    "arguments_1 = json.loads(tool_call_1.function.arguments)\n",
    "function_name_1 = tool_call_1.function.name\n",
    "print('Function 1: ', function_name_1)\n",
    "print('Arguments 1: ', arguments_1, '\\n')\n",
    "\n",
    "tool_call_2 = run.required_action.submit_tool_outputs.tool_calls[1]\n",
    "arguments_2 = json.loads(tool_call_2.function.arguments)\n",
    "function_name_2 = tool_call_2.function.name\n",
    "print('Function 2: ', function_name_2)\n",
    "print('Arguments 2: ', arguments_2)"
   ]
  },
  {
   "cell_type": "code",
   "execution_count": 117,
   "id": "8e6dde08-6832-4e24-b6e5-2d6e652db95c",
   "metadata": {},
   "outputs": [
    {
     "name": "stdout",
     "output_type": "stream",
     "text": [
      "Temperature:  90\n",
      "Rain prob:  0.2\n"
     ]
    }
   ],
   "source": [
    "# Run the funcitons locally:\n",
    "temp_result = get_current_temperature(arguments_1['location'], arguments_1['unit'])\n",
    "print('Temperature: ', temp_result)\n",
    "\n",
    "rain_result = get_rain_probability(arguments_2['location'])\n",
    "print('Rain prob: ', rain_result)"
   ]
  },
  {
   "cell_type": "code",
   "execution_count": 118,
   "id": "a029456a-5bbb-467d-bf8b-79e13e290d9f",
   "metadata": {},
   "outputs": [],
   "source": [
    "# Define the list to store tool outputs\n",
    "tool_outputs = []\n",
    " \n",
    "# Loop through each tool in the required action section and append them to tool_outputs.\n",
    "for tool in run.required_action.submit_tool_outputs.tool_calls:\n",
    "  if tool.function.name == \"get_current_temperature\":\n",
    "    tool_outputs.append({\n",
    "      \"tool_call_id\": tool.id,\n",
    "      \"output\": temp_result\n",
    "    })\n",
    "  elif tool.function.name == \"get_rain_probability\":\n",
    "    tool_outputs.append({\n",
    "      \"tool_call_id\": tool.id,\n",
    "      \"output\": rain_result\n",
    "    })"
   ]
  },
  {
   "cell_type": "code",
   "execution_count": 119,
   "id": "01a65ff8-e97d-4d10-92d7-f0d984104c75",
   "metadata": {},
   "outputs": [
    {
     "data": {
      "text/plain": [
       "[{'tool_call_id': 'call_JQOzrZeB18IAf3MULtcoMENG', 'output': '90'},\n",
       " {'tool_call_id': 'call_lvqAHDhG8nz3mwyXDXlw1H2z', 'output': '0.2'}]"
      ]
     },
     "execution_count": 119,
     "metadata": {},
     "output_type": "execute_result"
    }
   ],
   "source": [
    "tool_outputs"
   ]
  },
  {
   "cell_type": "code",
   "execution_count": 120,
   "id": "d8ac7fce-4902-4b9d-a107-c2f9b4cbf773",
   "metadata": {},
   "outputs": [
    {
     "name": "stdout",
     "output_type": "stream",
     "text": [
      "Tool outputs submitted successfully.\n",
      "SyncCursorPage[Message](data=[Message(id='msg_cjJvN3UbjJrXIj3jQw3pMpBW', assistant_id='asst_fXhgbmuawcZYWSZ41yBJ6td3', attachments=[], completed_at=None, content=[TextContentBlock(text=Text(annotations=[], value=\"In Los Angeles, CA, the current temperature is 90°F, and there's a 20% probability of rain today.\"), type='text')], created_at=1718535521, incomplete_at=None, incomplete_details=None, metadata={}, object='thread.message', role='assistant', run_id='run_YJn55hGJZ8L0dOM4BUr3WeQ4', status=None, thread_id='thread_8cQ9fTUGXP2bW0uz5oTOukOZ'), Message(id='msg_Iv1AUPnvnm1nuPu2qIRlG6sR', assistant_id=None, attachments=[], completed_at=None, content=[TextContentBlock(text=Text(annotations=[], value=\"What's the weather in Los Angeles today and the likelihood it'll rain?\"), type='text')], created_at=1718535505, incomplete_at=None, incomplete_details=None, metadata={}, object='thread.message', role='user', run_id=None, status=None, thread_id='thread_8cQ9fTUGXP2bW0uz5oTOukOZ'), Message(id='msg_EE7QpQ0jRXTsRYYJTa5kNmw8', assistant_id='asst_fXhgbmuawcZYWSZ41yBJ6td3', attachments=[], completed_at=None, content=[TextContentBlock(text=Text(annotations=[], value=\"In Windsor, UK, the current temperature is 25°C, and there's a 20% probability of rain today.\"), type='text')], created_at=1718535480, incomplete_at=None, incomplete_details=None, metadata={}, object='thread.message', role='assistant', run_id='run_KpfCyAQyuwVL3LNPj6Gk14Td', status=None, thread_id='thread_8cQ9fTUGXP2bW0uz5oTOukOZ'), Message(id='msg_9l2XWeuvx5rbL1On8PvMeCZN', assistant_id=None, attachments=[], completed_at=None, content=[TextContentBlock(text=Text(annotations=[], value=\"What's the weather in Windsor, UK today and the likelihood it'll rain?\"), type='text')], created_at=1718535457, incomplete_at=None, incomplete_details=None, metadata={}, object='thread.message', role='user', run_id=None, status=None, thread_id='thread_8cQ9fTUGXP2bW0uz5oTOukOZ')], object='list', first_id='msg_cjJvN3UbjJrXIj3jQw3pMpBW', last_id='msg_9l2XWeuvx5rbL1On8PvMeCZN', has_more=False)\n"
     ]
    }
   ],
   "source": [
    "# Submit all tool outputs at once after collecting them in a list\n",
    "if tool_outputs:\n",
    "  try:\n",
    "    run = client.beta.threads.runs.submit_tool_outputs_and_poll(\n",
    "      thread_id=thread.id,\n",
    "      run_id=run.id,\n",
    "      tool_outputs=tool_outputs\n",
    "    )\n",
    "    print(\"Tool outputs submitted successfully.\")\n",
    "  except Exception as e:\n",
    "    print(\"Failed to submit tool outputs:\", e)\n",
    "else:\n",
    "  print(\"No tool outputs to submit.\")\n",
    " \n",
    "if run.status == 'completed':\n",
    "  messages = client.beta.threads.messages.list(\n",
    "    thread_id=thread.id\n",
    "  )\n",
    "  print(messages)\n",
    "else:\n",
    "  print(run.status)"
   ]
  },
  {
   "cell_type": "code",
   "execution_count": 121,
   "id": "4d5014e5-e0c8-4c6f-9082-cd0818c53123",
   "metadata": {},
   "outputs": [],
   "source": [
    "messages = client.beta.threads.messages.list(\n",
    "    thread_id = thread.id,\n",
    "    order = 'asc'\n",
    ")"
   ]
  },
  {
   "cell_type": "code",
   "execution_count": 122,
   "id": "3f7d233f-9a6d-4f78-abd9-7c719dd1d5ce",
   "metadata": {},
   "outputs": [
    {
     "name": "stdout",
     "output_type": "stream",
     "text": [
      "What's the weather in Windsor, UK today and the likelihood it'll rain?\n",
      "\n",
      "\n",
      "In Windsor, UK, the current temperature is 25°C, and there's a 20% probability of rain today.\n",
      "\n",
      "\n",
      "What's the weather in Los Angeles today and the likelihood it'll rain?\n",
      "\n",
      "\n",
      "In Los Angeles, CA, the current temperature is 90°F, and there's a 20% probability of rain today.\n",
      "\n",
      "\n"
     ]
    }
   ],
   "source": [
    "for message in messages:\n",
    "    print(message.content[0].text.value)\n",
    "    print('\\n')"
   ]
  },
  {
   "cell_type": "code",
   "execution_count": 39,
   "id": "1cf56606-1ce7-4dd2-9252-c3ec214cdcab",
   "metadata": {},
   "outputs": [
    {
     "data": {
      "text/plain": [
       "AssistantDeleted(id='asst_XlJ5fgKjzjNsaNNtBUcjzxrt', deleted=True, object='assistant.deleted')"
      ]
     },
     "execution_count": 39,
     "metadata": {},
     "output_type": "execute_result"
    }
   ],
   "source": [
    "# Delete the assistant:\n",
    "client.beta.assistants.delete(assistant.id)"
   ]
  },
  {
   "cell_type": "code",
   "execution_count": null,
   "id": "865f32bb-56a3-469c-b868-c1d150dae40d",
   "metadata": {},
   "outputs": [],
   "source": []
  }
 ],
 "metadata": {
  "kernelspec": {
   "display_name": "Python 3 (ipykernel)",
   "language": "python",
   "name": "python3"
  },
  "language_info": {
   "codemirror_mode": {
    "name": "ipython",
    "version": 3
   },
   "file_extension": ".py",
   "mimetype": "text/x-python",
   "name": "python",
   "nbconvert_exporter": "python",
   "pygments_lexer": "ipython3",
   "version": "3.12.2"
  }
 },
 "nbformat": 4,
 "nbformat_minor": 5
}
