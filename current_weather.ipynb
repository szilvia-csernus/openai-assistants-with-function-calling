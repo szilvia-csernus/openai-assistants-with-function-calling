{
 "cells": [
  {
   "cell_type": "code",
   "execution_count": 1,
   "id": "2e76e39b-8eb1-4345-b0f1-51a400767f8a",
   "metadata": {},
   "outputs": [
    {
     "data": {
      "text/plain": [
       "True"
      ]
     },
     "execution_count": 1,
     "metadata": {},
     "output_type": "execute_result"
    }
   ],
   "source": [
    "from openai import OpenAI\n",
    "from dotenv import load_dotenv\n",
    "import json\n",
    "load_dotenv()"
   ]
  },
  {
   "cell_type": "code",
   "execution_count": 2,
   "id": "af035e7a-6594-4a7e-8929-24effdbbf45d",
   "metadata": {},
   "outputs": [],
   "source": [
    "client = OpenAI()"
   ]
  },
  {
   "cell_type": "code",
   "execution_count": 18,
   "id": "be4e46f8-1879-4954-9524-12b2b9c2eb6e",
   "metadata": {},
   "outputs": [],
   "source": [
    "from open_meteo_api import get_weather_data, get_air_data"
   ]
  },
  {
   "cell_type": "code",
   "execution_count": 5,
   "id": "82d5720b-f0a2-41ec-9694-f47bab798e08",
   "metadata": {
    "editable": true,
    "slideshow": {
     "slide_type": ""
    },
    "tags": []
   },
   "outputs": [],
   "source": [
    "# These are the functions to be called by the Assistant. These will be API calls to a weather app\n",
    "\n",
    "# from open_meteo_apis import get_weather_data\n",
    "# from open_meteo_apis import get_air_data\n",
    "\n",
    "def get_current_temperature(latitude, longitude, unit):\n",
    "    temp = get_weather_data({\n",
    "        \"latitude\": latitude, \n",
    "        \"longitude\": longitude,\n",
    "        \"current\": \"temperature_2m\"\n",
    "    })\n",
    "    return temp\n",
    "\n",
    "def get_air_quality(latitude, longitude):\n",
    "    air = get_air_data({\n",
    "        \"latitude\": latitude, \n",
    "        \"longitude\": longitude\n",
    "    })\n",
    "    if air <= 20: return 'good'\n",
    "    if air <= 40: return 'fair'\n",
    "    if air <= 60: return 'moderate'\n",
    "    if air <= 80: return 'poor'\n",
    "    if air <= 100: return 'very poor'\n",
    "    else: return 'extremely poor'\n",
    "    "
   ]
  },
  {
   "cell_type": "code",
   "execution_count": 6,
   "id": "b9c44b32-8d19-4d9a-bb55-22f490dd917e",
   "metadata": {},
   "outputs": [],
   "source": [
    "assistant = client.beta.assistants.create(\n",
    "  name=\"Current Weather and Rain\",\n",
    "  instructions=\"You are a weather bot. Use the provided functions to answer questions.\",\n",
    "  model=\"gpt-4o\",\n",
    "  tools=[\n",
    "    {\n",
    "      \"type\": \"function\",\n",
    "      \"function\": {\n",
    "        \"name\": \"get_current_temperature\",\n",
    "        \"description\": \"Get the current temperature for a specific location\",\n",
    "        \"parameters\": {\n",
    "          \"type\": \"object\",\n",
    "          \"properties\": {\n",
    "            \"latitude\": {\n",
    "              \"type\": \"string\",\n",
    "              \"description\": \"The latitute of the location.\"\n",
    "            },\n",
    "              \"longitude\": {\n",
    "              \"type\": \"string\",\n",
    "              \"description\": \"The longitude of the location.\"\n",
    "            },\n",
    "            \"unit\": {\n",
    "              \"type\": \"string\",\n",
    "              \"enum\": [\"Celsius\", \"Fahrenheit\"],\n",
    "              \"description\": \"The temperature unit to use. Infer this from the user's location.\"\n",
    "            }\n",
    "          },\n",
    "          \"required\": [\"latitude\", \"longitude\", \"unit\"]\n",
    "        }\n",
    "      }\n",
    "    },\n",
    "    {\n",
    "      \"type\": \"function\",\n",
    "      \"function\": {\n",
    "        \"name\": \"get_air_quality\",\n",
    "        \"description\": \"Get the air quality for a specific location\",\n",
    "        \"parameters\": {\n",
    "          \"type\": \"object\",\n",
    "          \"properties\": {\n",
    "            \"latitude\": {\n",
    "              \"type\": \"string\",\n",
    "              \"description\": \"The latitute of the location.\"\n",
    "            },\n",
    "              \"longitude\": {\n",
    "              \"type\": \"string\",\n",
    "              \"description\": \"The longitude of the location.\"\n",
    "            },\n",
    "          },\n",
    "          \"required\": [\"latitude\", \"longitude\"]\n",
    "        }\n",
    "      }\n",
    "    }\n",
    "  ]\n",
    ")"
   ]
  },
  {
   "cell_type": "code",
   "execution_count": 4,
   "id": "63838f06-d014-4b66-a148-85b759cbd6b3",
   "metadata": {},
   "outputs": [
    {
     "ename": "NameError",
     "evalue": "name 'thread' is not defined",
     "output_type": "error",
     "traceback": [
      "\u001b[0;31m---------------------------------------------------------------------------\u001b[0m",
      "\u001b[0;31mNameError\u001b[0m                                 Traceback (most recent call last)",
      "Cell \u001b[0;32mIn[4], line 2\u001b[0m\n\u001b[1;32m      1\u001b[0m \u001b[38;5;66;03m# If we want to discard the previously used thread:\u001b[39;00m\n\u001b[0;32m----> 2\u001b[0m client\u001b[38;5;241m.\u001b[39mbeta\u001b[38;5;241m.\u001b[39mthreads\u001b[38;5;241m.\u001b[39mdelete(\u001b[43mthread\u001b[49m\u001b[38;5;241m.\u001b[39mid)\n",
      "\u001b[0;31mNameError\u001b[0m: name 'thread' is not defined"
     ]
    }
   ],
   "source": [
    "# If we want to discard the previously used thread:\n",
    "client.beta.threads.delete(thread.id)"
   ]
  },
  {
   "cell_type": "code",
   "execution_count": 7,
   "id": "f0dd7a99-ff63-4a30-9b20-b4bf9e72b274",
   "metadata": {},
   "outputs": [],
   "source": [
    "# Create a thread\n",
    "thread = client.beta.threads.create()"
   ]
  },
  {
   "cell_type": "code",
   "execution_count": 8,
   "id": "f5a27d53-fdb4-4dc0-8046-9b82642c9dcc",
   "metadata": {},
   "outputs": [
    {
     "data": {
      "text/plain": [
       "'thread_Gt9Lnanc5Egshe4xMPnfXARz'"
      ]
     },
     "execution_count": 8,
     "metadata": {},
     "output_type": "execute_result"
    }
   ],
   "source": [
    "thread.id"
   ]
  },
  {
   "cell_type": "code",
   "execution_count": 50,
   "id": "fafc63e3-554a-4239-8ea1-605c56849a8b",
   "metadata": {},
   "outputs": [],
   "source": [
    "# Create our first message. Note that we ask for 2 things, hence 2 function calls are needed.\n",
    "message = client.beta.threads.messages.create(\n",
    "  thread_id=thread.id,\n",
    "  role=\"user\",\n",
    "  content=\"What's the weather and the air quality in Beijing, China today?\",\n",
    ")"
   ]
  },
  {
   "cell_type": "code",
   "execution_count": 51,
   "id": "f1d6dc9e-e8e3-41cb-9205-1e803a114b4f",
   "metadata": {},
   "outputs": [],
   "source": [
    "# Create a run without streaming\n",
    "# Note that runs expire after 10 minutes.\n",
    "\n",
    "run = client.beta.threads.runs.create_and_poll(\n",
    "  thread_id=thread.id,\n",
    "  assistant_id=assistant.id,\n",
    ")"
   ]
  },
  {
   "cell_type": "code",
   "execution_count": 52,
   "id": "6bfae506-1b43-4887-a31b-f20491a1f277",
   "metadata": {},
   "outputs": [
    {
     "data": {
      "text/plain": [
       "'requires_action'"
      ]
     },
     "execution_count": 52,
     "metadata": {},
     "output_type": "execute_result"
    }
   ],
   "source": [
    "run.status"
   ]
  },
  {
   "cell_type": "code",
   "execution_count": 53,
   "id": "fe907c1d-5976-4011-8f7c-96d7c4832908",
   "metadata": {},
   "outputs": [
    {
     "name": "stdout",
     "output_type": "stream",
     "text": [
      "Function 1:  get_current_temperature\n",
      "Arguments 1:  {'latitude': '39.9042', 'longitude': '116.4074', 'unit': 'Celsius'} \n",
      "\n",
      "Function 2:  get_air_quality\n",
      "Arguments 2:  {'latitude': '39.9042', 'longitude': '116.4074'}\n"
     ]
    }
   ],
   "source": [
    "tool_call_1 = run.required_action.submit_tool_outputs.tool_calls[0]\n",
    "arguments_1 = json.loads(tool_call_1.function.arguments)\n",
    "function_name_1 = tool_call_1.function.name\n",
    "print('Function 1: ', function_name_1)\n",
    "print('Arguments 1: ', arguments_1, '\\n')\n",
    "\n",
    "tool_call_2 = run.required_action.submit_tool_outputs.tool_calls[1]\n",
    "arguments_2 = json.loads(tool_call_2.function.arguments)\n",
    "function_name_2 = tool_call_2.function.name\n",
    "print('Function 2: ', function_name_2)\n",
    "print('Arguments 2: ', arguments_2)"
   ]
  },
  {
   "cell_type": "code",
   "execution_count": 54,
   "id": "8e6dde08-6832-4e24-b6e5-2d6e652db95c",
   "metadata": {},
   "outputs": [
    {
     "name": "stdout",
     "output_type": "stream",
     "text": [
      "Coordinates 39.875°N 116.375°E\n",
      "Elevation 47.0 m asl\n",
      "Timezone None None\n",
      "Timezone difference to GMT+0 0 s\n",
      "Current time 1718568000\n",
      "Current temperature_2m 23.600000381469727\n",
      "Temperature:  23.600000381469727\n",
      "Coordinates 40.0°N 116.39999389648438°E\n",
      "Elevation 47.0 m asl\n",
      "Timezone None None\n",
      "Timezone difference to GMT+0 0 s\n",
      "Current: <openmeteo_sdk.VariablesWithTime.VariablesWithTime object at 0x127159a20>\n",
      "Current time 1718568000\n",
      "Air quality:  poor\n"
     ]
    }
   ],
   "source": [
    "# Run the funcitons locally:\n",
    "temp_result = get_current_temperature(arguments_1['latitude'],arguments_1['longitude'], arguments_1['unit'])\n",
    "print('Temperature: ', temp_result)\n",
    "\n",
    "air_quality_result = get_air_quality(arguments_2['latitude'], arguments_2['longitude'])\n",
    "print('Air quality: ', air_quality_result)"
   ]
  },
  {
   "cell_type": "code",
   "execution_count": 55,
   "id": "a029456a-5bbb-467d-bf8b-79e13e290d9f",
   "metadata": {},
   "outputs": [],
   "source": [
    "# Define the list to store tool outputs\n",
    "tool_outputs = []\n",
    " \n",
    "# Loop through each tool in the required action section and append them to tool_outputs.\n",
    "for tool in run.required_action.submit_tool_outputs.tool_calls:\n",
    "  if tool.function.name == \"get_current_temperature\":\n",
    "    tool_outputs.append({\n",
    "      \"tool_call_id\": tool.id,\n",
    "      \"output\": str(temp_result)\n",
    "    })\n",
    "  elif tool.function.name == \"get_air_quality\":\n",
    "    tool_outputs.append({\n",
    "      \"tool_call_id\": tool.id,\n",
    "      \"output\": air_quality_result\n",
    "    })"
   ]
  },
  {
   "cell_type": "code",
   "execution_count": 56,
   "id": "01a65ff8-e97d-4d10-92d7-f0d984104c75",
   "metadata": {},
   "outputs": [
    {
     "data": {
      "text/plain": [
       "[{'tool_call_id': 'call_nLFEw8Mp0bjNIctWTJPZVna8',\n",
       "  'output': '23.600000381469727'},\n",
       " {'tool_call_id': 'call_RfjRVpsQVodm7bDiZO0s8JtM', 'output': 'poor'}]"
      ]
     },
     "execution_count": 56,
     "metadata": {},
     "output_type": "execute_result"
    }
   ],
   "source": [
    "tool_outputs"
   ]
  },
  {
   "cell_type": "code",
   "execution_count": 57,
   "id": "d8ac7fce-4902-4b9d-a107-c2f9b4cbf773",
   "metadata": {},
   "outputs": [
    {
     "name": "stdout",
     "output_type": "stream",
     "text": [
      "Tool outputs submitted successfully.\n",
      "SyncCursorPage[Message](data=[Message(id='msg_KOnktxheQEUZj2ZtPVemGzct', assistant_id='asst_7eepyoqadCncHO7pjJBInRB0', attachments=[], completed_at=None, content=[TextContentBlock(text=Text(annotations=[], value=\"Today's weather in Beijing, China is 23.6°C with poor air quality.\"), type='text')], created_at=1718568760, incomplete_at=None, incomplete_details=None, metadata={}, object='thread.message', role='assistant', run_id='run_h7hFRL0uagVY1gvqSxqmZr5V', status=None, thread_id='thread_Gt9Lnanc5Egshe4xMPnfXARz'), Message(id='msg_AVCkMyIk5BG14Q3aTcoyQgYi', assistant_id=None, attachments=[], completed_at=None, content=[TextContentBlock(text=Text(annotations=[], value=\"What's the weather and the air quality in Beijing, China today?\"), type='text')], created_at=1718568740, incomplete_at=None, incomplete_details=None, metadata={}, object='thread.message', role='user', run_id=None, status=None, thread_id='thread_Gt9Lnanc5Egshe4xMPnfXARz'), Message(id='msg_5IN46v0EXH7yXTM7wwHwDoXe', assistant_id='asst_7eepyoqadCncHO7pjJBInRB0', attachments=[], completed_at=None, content=[TextContentBlock(text=Text(annotations=[], value=\"Today's weather in Sunninghill, UK is 15.4°C with fair air quality.\"), type='text')], created_at=1718568642, incomplete_at=None, incomplete_details=None, metadata={}, object='thread.message', role='assistant', run_id='run_78LwpncrDdHOnFaEQ6BfdBzy', status=None, thread_id='thread_Gt9Lnanc5Egshe4xMPnfXARz'), Message(id='msg_cohOkBJ9VvUrev2qojemDboU', assistant_id=None, attachments=[], completed_at=None, content=[TextContentBlock(text=Text(annotations=[], value=\"What's the weather and the air quality in Sunninghill, UK today?\"), type='text')], created_at=1718568626, incomplete_at=None, incomplete_details=None, metadata={}, object='thread.message', role='user', run_id=None, status=None, thread_id='thread_Gt9Lnanc5Egshe4xMPnfXARz'), Message(id='msg_MGqEmInb5RAarUS5kdy82eAE', assistant_id='asst_7eepyoqadCncHO7pjJBInRB0', attachments=[], completed_at=None, content=[TextContentBlock(text=Text(annotations=[], value=\"Today's weather in Budapest, Hungary is 20.6°C with fair air quality.\"), type='text')], created_at=1718568541, incomplete_at=None, incomplete_details=None, metadata={}, object='thread.message', role='assistant', run_id='run_D92cdtT05aznWDF5O0cZItTY', status=None, thread_id='thread_Gt9Lnanc5Egshe4xMPnfXARz'), Message(id='msg_dSprjcIxmhAax2fZ6QjqRYW3', assistant_id=None, attachments=[], completed_at=None, content=[TextContentBlock(text=Text(annotations=[], value=\"What's the weather and the air quality in Budapest today?\"), type='text')], created_at=1718568493, incomplete_at=None, incomplete_details=None, metadata={}, object='thread.message', role='user', run_id=None, status=None, thread_id='thread_Gt9Lnanc5Egshe4xMPnfXARz'), Message(id='msg_H1Xl7VccySekMVpUaCpvMJzo', assistant_id='asst_7eepyoqadCncHO7pjJBInRB0', attachments=[], completed_at=None, content=[TextContentBlock(text=Text(annotations=[], value=\"Today's weather in Ascot, UK is 14.8°C with fair air quality.\"), type='text')], created_at=1718568396, incomplete_at=None, incomplete_details=None, metadata={}, object='thread.message', role='assistant', run_id='run_mG7V0WAEzdcdFz3GbGMxDuH1', status=None, thread_id='thread_Gt9Lnanc5Egshe4xMPnfXARz'), Message(id='msg_1CSkkAizCqREo5sv78T68Tqr', assistant_id=None, attachments=[], completed_at=None, content=[TextContentBlock(text=Text(annotations=[], value=\"What's the weather and the air quality in Ascot, UK today?\"), type='text')], created_at=1718567922, incomplete_at=None, incomplete_details=None, metadata={}, object='thread.message', role='user', run_id=None, status=None, thread_id='thread_Gt9Lnanc5Egshe4xMPnfXARz')], object='list', first_id='msg_KOnktxheQEUZj2ZtPVemGzct', last_id='msg_1CSkkAizCqREo5sv78T68Tqr', has_more=False)\n"
     ]
    }
   ],
   "source": [
    "# Submit all tool outputs at once after collecting them in a list\n",
    "if tool_outputs:\n",
    "  try:\n",
    "    run = client.beta.threads.runs.submit_tool_outputs_and_poll(\n",
    "      thread_id=thread.id,\n",
    "      run_id=run.id,\n",
    "      tool_outputs=tool_outputs\n",
    "    )\n",
    "    print(\"Tool outputs submitted successfully.\")\n",
    "  except Exception as e:\n",
    "    print(\"Failed to submit tool outputs:\", e)\n",
    "else:\n",
    "  print(\"No tool outputs to submit.\")\n",
    " \n",
    "if run.status == 'completed':\n",
    "  messages = client.beta.threads.messages.list(\n",
    "    thread_id=thread.id\n",
    "  )\n",
    "  print(messages)\n",
    "else:\n",
    "  print(run.status)"
   ]
  },
  {
   "cell_type": "code",
   "execution_count": 58,
   "id": "4d5014e5-e0c8-4c6f-9082-cd0818c53123",
   "metadata": {},
   "outputs": [],
   "source": [
    "messages = client.beta.threads.messages.list(\n",
    "    thread_id = thread.id,\n",
    "    order = 'asc'\n",
    ")"
   ]
  },
  {
   "cell_type": "code",
   "execution_count": 59,
   "id": "3f7d233f-9a6d-4f78-abd9-7c719dd1d5ce",
   "metadata": {},
   "outputs": [
    {
     "name": "stdout",
     "output_type": "stream",
     "text": [
      "What's the weather and the air quality in Ascot, UK today?\n",
      "\n",
      "\n",
      "Today's weather in Ascot, UK is 14.8°C with fair air quality.\n",
      "\n",
      "\n",
      "What's the weather and the air quality in Budapest today?\n",
      "\n",
      "\n",
      "Today's weather in Budapest, Hungary is 20.6°C with fair air quality.\n",
      "\n",
      "\n",
      "What's the weather and the air quality in Sunninghill, UK today?\n",
      "\n",
      "\n",
      "Today's weather in Sunninghill, UK is 15.4°C with fair air quality.\n",
      "\n",
      "\n",
      "What's the weather and the air quality in Beijing, China today?\n",
      "\n",
      "\n",
      "Today's weather in Beijing, China is 23.6°C with poor air quality.\n",
      "\n",
      "\n"
     ]
    }
   ],
   "source": [
    "for message in messages:\n",
    "    print(message.content[0].text.value)\n",
    "    print('\\n')"
   ]
  },
  {
   "cell_type": "code",
   "execution_count": 36,
   "id": "1cf56606-1ce7-4dd2-9252-c3ec214cdcab",
   "metadata": {},
   "outputs": [
    {
     "data": {
      "text/plain": [
       "AssistantDeleted(id='asst_hSM5zfbTEpoLYEwEjjLYwZrg', deleted=True, object='assistant.deleted')"
      ]
     },
     "execution_count": 36,
     "metadata": {},
     "output_type": "execute_result"
    }
   ],
   "source": [
    "# Delete the assistant:\n",
    "client.beta.assistants.delete(assistant.id)"
   ]
  },
  {
   "cell_type": "code",
   "execution_count": null,
   "id": "865f32bb-56a3-469c-b868-c1d150dae40d",
   "metadata": {},
   "outputs": [],
   "source": []
  }
 ],
 "metadata": {
  "kernelspec": {
   "display_name": "Python 3 (ipykernel)",
   "language": "python",
   "name": "python3"
  },
  "language_info": {
   "codemirror_mode": {
    "name": "ipython",
    "version": 3
   },
   "file_extension": ".py",
   "mimetype": "text/x-python",
   "name": "python",
   "nbconvert_exporter": "python",
   "pygments_lexer": "ipython3",
   "version": "3.12.2"
  }
 },
 "nbformat": 4,
 "nbformat_minor": 5
}
